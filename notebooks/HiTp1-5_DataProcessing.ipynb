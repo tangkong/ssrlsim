{
 "cells": [
  {
   "cell_type": "markdown",
   "metadata": {},
   "source": [
    "# Data Processing with Bluesky\n",
    "\n",
    "Data in Bluesky is done automatically with every run.  Data is separated into two categories, metadata and large files.  Metadata or small amounts of scalar data are stored quickly in a MongoDB database.  Files that too large to be stored easily in this database are written directly to storage, and a reference to this file is stored with the metadata in the MongoDB database.  \n",
    "\n",
    "The `databroker` package provides an interface for accessing this data.  `databroker` naturally returns data in `xarray` objects directly, which are a powerful tool for processing and analyzing multi-dimensional data.  "
   ]
  },
  {
   "cell_type": "code",
   "execution_count": 1,
   "metadata": {},
   "outputs": [
    {
     "output_type": "stream",
     "name": "stdout",
     "text": "Filestore path: c:\\Users\\roberttk\\Desktop\\SLAC_RA\\bluesky-dev\\ssrlsim\\notebooks\\fstore\n"
    }
   ],
   "source": [
    "# Initialize the environment\n",
    "from ssrlsim.scripts.start_RE import *\n",
    "\n",
    "# Expose motors and detectors for this simulation\n",
    "from ssrlsim.hitp_waxs import *"
   ]
  },
  {
   "cell_type": "code",
   "execution_count": null,
   "metadata": {},
   "outputs": [],
   "source": [
    "# Accessing data from databroker\n",
    "\n",
    "# Recency indexing\n",
    "\n",
    "# queries"
   ]
  },
  {
   "cell_type": "code",
   "execution_count": null,
   "metadata": {},
   "outputs": [],
   "source": [
    "# Processing data\n",
    "\n",
    "# Calibration?  Does this exist in python?\n",
    "\n",
    "# Dark image subtration\n",
    "\n",
    "# Integrate (pyFAI information)\n",
    "\n",
    "# Fitting 1D spectra"
   ]
  },
  {
   "cell_type": "code",
   "execution_count": null,
   "metadata": {},
   "outputs": [],
   "source": [
    "# Exporting data\n",
    "\n",
    "# Suitcase\n",
    "\n",
    "# Looking for files in system"
   ]
  }
 ],
 "metadata": {
  "language_info": {
   "codemirror_mode": {
    "name": "ipython",
    "version": 3
   },
   "file_extension": ".py",
   "mimetype": "text/x-python",
   "name": "python",
   "nbconvert_exporter": "python",
   "pygments_lexer": "ipython3",
   "version": "3.8.3-final"
  },
  "orig_nbformat": 2,
  "kernelspec": {
   "name": "python38364bitcollect2condaae13d84e20224aae8c47c8cf57015747",
   "display_name": "Python 3.8.3 64-bit ('collect2': conda)"
  }
 },
 "nbformat": 4,
 "nbformat_minor": 2
}