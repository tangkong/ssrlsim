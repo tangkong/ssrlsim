{
 "cells": [
  {
   "cell_type": "markdown",
   "metadata": {},
   "source": [
    "# Beamline alignment in Bluesky\n",
    "This notebook will cover the commands needed to run alignment scans in Bluesky.  \n",
    "\n",
    "Two cases will be covered: \n",
    "\n",
    "1: Aligning using a point detector\n",
    "\n",
    "2: Aligning using an area detector"
   ]
  },
  {
   "cell_type": "code",
   "execution_count": 2,
   "metadata": {},
   "outputs": [
    {
     "name": "stdout",
     "output_type": "stream",
     "text": [
      "Filestore path: C:\\Users\\roberttk\\Desktop\\SLAC_RA\\bluesky-dev\\ssrlsim\\notebooks\\fstore\n"
     ]
    }
   ],
   "source": [
    "# Initialize the environment\n",
    "from ssrlsim.scripts.start_RE import *\n",
    "#%matplotlib widget\n",
    "\n",
    "# Expose motors and detectors for this simulation\n",
    "from ssrlsim.hitp_waxs import *\n",
    "\n",
    "# We've gathered most of the tools you might need to run your beamline under the ssrltools package.  \n",
    "# For alignment try the this stage leveling plan\n",
    "from ssrltools.plans import level_stage_single"
   ]
  },
  {
   "cell_type": "code",
   "execution_count": 26,
   "metadata": {},
   "outputs": [],
   "source": [
    "plt.ion()"
   ]
  },
  {
   "cell_type": "markdown",
   "metadata": {},
   "source": [
    "# Device summary\n",
    "The motors for the high throughput stage fixture are organized in an object named `stage`.  Individual motors can be accessed via `stage.stage_x`, `stage.plate_x` etc.  The laser range finder is named `lrf`, and will react to movements made by the HiTp stage motors.  The beamstop detector is named `ptDet` and can be occluded by the HiTp stage height: `stage.stage_z`"
   ]
  },
  {
   "cell_type": "code",
   "execution_count": 2,
   "metadata": {},
   "outputs": [
    {
     "data": {
      "text/plain": [
       "('stage_x', 'stage_y', 'stage_z', 'plate_x', 'plate_y', 'theta')"
      ]
     },
     "execution_count": 2,
     "metadata": {},
     "output_type": "execute_result"
    }
   ],
   "source": [
    "# play with various stage and detector objects here\n",
    "stage.component_names"
   ]
  },
  {
   "cell_type": "code",
   "execution_count": 3,
   "metadata": {},
   "outputs": [
    {
     "data": {
      "text/plain": [
       "{'lrf': {'value': 2.980371, 'timestamp': 1591647785.2834013}}"
      ]
     },
     "execution_count": 3,
     "metadata": {},
     "output_type": "execute_result"
    }
   ],
   "source": [
    "# Can read any of these with the .read() method\n",
    "lrf.read()"
   ]
  },
  {
   "cell_type": "code",
   "execution_count": 4,
   "metadata": {},
   "outputs": [
    {
     "data": {
      "text/plain": [
       "'ptDet'"
      ]
     },
     "execution_count": 4,
     "metadata": {},
     "output_type": "execute_result"
    }
   ],
   "source": [
    "# Each motor/device has a name that Bluesky identifies it by\n",
    "ptDet.name "
   ]
  },
  {
   "cell_type": "markdown",
   "metadata": {},
   "source": [
    "# Level stage using pico motors and laser range finder\n",
    "We have built a plan to automatically level the stage along one direction"
   ]
  },
  {
   "cell_type": "code",
   "execution_count": 27,
   "metadata": {},
   "outputs": [
    {
     "name": "stdout",
     "output_type": "stream",
     "text": [
      "Transient Scan ID: 6     Time: 2020-06-08 14:00:22\n",
      "Persistent Unique Scan ID: '916f4194-db27-4e30-ad9c-05621b40c647'\n",
      "New stream: 'primary'\n",
      "+-----------+------------+--------------------+------------+\n",
      "|   seq_num |       time | HiTp_Stage_stage_x |        lrf |\n",
      "+-----------+------------+--------------------+------------+\n",
      "|         1 | 14:00:22.0 |            -30.000 |      3.917 |\n",
      "|         2 | 14:00:22.1 |            -26.842 |      3.919 |\n",
      "|         3 | 14:00:22.1 |            -23.684 |      3.922 |\n",
      "|         4 | 14:00:22.1 |            -20.526 |      3.924 |\n",
      "|         5 | 14:00:22.1 |            -17.368 |      3.926 |\n",
      "|         6 | 14:00:22.1 |            -14.211 |      3.928 |\n",
      "|         7 | 14:00:22.2 |            -11.053 |      3.930 |\n",
      "|         8 | 14:00:22.2 |             -7.895 |      3.933 |\n",
      "|         9 | 14:00:22.2 |             -4.737 |      2.935 |\n",
      "|        10 | 14:00:22.2 |             -1.579 |      2.937 |\n",
      "|        11 | 14:00:22.2 |              1.579 |      2.939 |\n",
      "|        12 | 14:00:22.2 |              4.737 |      2.941 |\n",
      "|        13 | 14:00:22.2 |              7.895 |      3.944 |\n",
      "|        14 | 14:00:22.2 |             11.053 |      3.946 |\n",
      "|        15 | 14:00:22.3 |             14.211 |      3.948 |\n",
      "|        16 | 14:00:22.3 |             17.368 |      3.950 |\n",
      "|        17 | 14:00:22.3 |             20.526 |      3.952 |\n",
      "|        18 | 14:00:22.3 |             23.684 |      3.955 |\n",
      "|        19 | 14:00:22.3 |             26.842 |      3.957 |\n",
      "|        20 | 14:00:22.3 |             30.000 |      3.959 |\n",
      "+-----------+------------+--------------------+------------+\n",
      "generator scan ['916f4194'] (scan num: 6)\n",
      "\n",
      "\n",
      "\n"
     ]
    },
    {
     "data": {
      "text/plain": [
       "('916f4194-db27-4e30-ad9c-05621b40c647',)"
      ]
     },
     "execution_count": 27,
     "metadata": {},
     "output_type": "execute_result"
    }
   ],
   "source": [
    "# Move to center of stage first\n",
    "RE(bps.mv(stage.stage_x, 0, stage.stage_y, 0)) # Can also split into two different commands \n",
    "\n",
    "# Look at profile of stage before alignment\n",
    "RE(bp.scan([lrf], stage.stage_x, -30, 30, num=20))"
   ]
  },
  {
   "cell_type": "code",
   "execution_count": 19,
   "metadata": {},
   "outputs": [
    {
     "name": "stdout",
     "output_type": "stream",
     "text": [
      "0 iters for thresh_mult=20\n",
      "0 iters for thresh_mult=10\n",
      "5 iters for thresh_mult=5\n",
      "17 iters for thresh_mult=2\n"
     ]
    },
    {
     "data": {
      "text/plain": [
       "()"
      ]
     },
     "execution_count": 19,
     "metadata": {},
     "output_type": "execute_result"
    }
   ],
   "source": [
    "# move to center of stage \n",
    "RE(bps.mv(stage.stage_x, 0, stage.stage_y, 0))\n",
    "# Level x-axis\n",
    "RE(level_stage_single(lrf, stage.plate_x, stage.stage_x, -30, 30))"
   ]
  },
  {
   "cell_type": "code",
   "execution_count": 23,
   "metadata": {},
   "outputs": [
    {
     "name": "stdout",
     "output_type": "stream",
     "text": [
      "Transient Scan ID: 4     Time: 2020-06-08 13:37:53\n",
      "Persistent Unique Scan ID: 'c07b21e2-1bb4-4436-a295-c28272ad2759'\n",
      "New stream: 'primary'\n",
      "+-----------+------------+--------------------+------------+\n",
      "|   seq_num |       time | HiTp_Stage_stage_x |        lrf |\n",
      "+-----------+------------+--------------------+------------+\n",
      "|         1 | 13:37:53.9 |            -30.000 |      3.917 |\n",
      "|         2 | 13:37:53.9 |            -26.842 |      3.919 |\n",
      "|         3 | 13:37:53.9 |            -23.684 |      3.922 |\n",
      "|         4 | 13:37:53.9 |            -20.526 |      3.924 |\n",
      "|         5 | 13:37:54.0 |            -17.368 |      3.926 |\n",
      "|         6 | 13:37:54.0 |            -14.211 |      3.928 |\n",
      "|         7 | 13:37:54.0 |            -11.053 |      3.930 |\n",
      "|         8 | 13:37:54.0 |             -7.895 |      3.933 |\n",
      "|         9 | 13:37:54.0 |             -4.737 |      2.935 |\n",
      "|        10 | 13:37:54.0 |             -1.579 |      2.937 |\n",
      "|        11 | 13:37:54.0 |              1.579 |      2.939 |\n",
      "|        12 | 13:37:54.1 |              4.737 |      2.941 |\n",
      "|        13 | 13:37:54.1 |              7.895 |      3.944 |\n",
      "|        14 | 13:37:54.1 |             11.053 |      3.946 |\n",
      "|        15 | 13:37:54.1 |             14.211 |      3.948 |\n",
      "|        16 | 13:37:54.2 |             17.368 |      3.950 |\n",
      "|        17 | 13:37:54.2 |             20.526 |      3.952 |\n",
      "|        18 | 13:37:54.2 |             23.684 |      3.955 |\n",
      "|        19 | 13:37:54.2 |             26.842 |      3.957 |\n",
      "|        20 | 13:37:54.2 |             30.000 |      3.959 |\n",
      "+-----------+------------+--------------------+------------+\n",
      "generator scan ['c07b21e2'] (scan num: 4)\n",
      "\n",
      "\n",
      "\n"
     ]
    },
    {
     "data": {
      "text/plain": [
       "('c07b21e2-1bb4-4436-a295-c28272ad2759',)"
      ]
     },
     "execution_count": 23,
     "metadata": {},
     "output_type": "execute_result"
    }
   ],
   "source": [
    "# Re-examine stage to verify it has been leveled.  Should be level within a tolerance of 0.0427V (29.4 steps)\n",
    "RE(bp.scan([lrf], stage.stage_x, -30, 30, num=20))"
   ]
  },
  {
   "cell_type": "code",
   "execution_count": 22,
   "metadata": {},
   "outputs": [
    {
     "name": "stdout",
     "output_type": "stream",
     "text": [
      "-0.04180250000000019\n"
     ]
    }
   ],
   "source": [
    "RE(bps.mv(stage.stage_x, -30))\n",
    "v1 = lrf.read()['lrf']['value']\n",
    "RE(bps.mv(stage.stage_x, 30))\n",
    "v2 = lrf.read()['lrf']['value']\n",
    "print(v1-v2)"
   ]
  },
  {
   "cell_type": "code",
   "execution_count": 15,
   "metadata": {},
   "outputs": [
    {
     "data": {
      "text/plain": [
       "{'lrf': {'value': 3.9821885, 'timestamp': 1591381340.9422255}}"
      ]
     },
     "execution_count": 15,
     "metadata": {},
     "output_type": "execute_result"
    }
   ],
   "source": [
    "RE(bps.mv(stage.stage_x, 30))\n",
    "lrf.read()"
   ]
  },
  {
   "cell_type": "code",
   "execution_count": null,
   "metadata": {},
   "outputs": [],
   "source": [
    "# As an exercise, try writing the commands necessary to level the y-stage\n"
   ]
  },
  {
   "cell_type": "markdown",
   "metadata": {},
   "source": [
    "# Align Z-stage using ims stage motors and beamstop detector \n",
    "This alignment procedure is significantly less complicated, so we'll do this one manually"
   ]
  },
  {
   "cell_type": "code",
   "execution_count": 24,
   "metadata": {},
   "outputs": [
    {
     "name": "stdout",
     "output_type": "stream",
     "text": [
      "Transient Scan ID: 5     Time: 2020-06-08 13:58:17\n",
      "Persistent Unique Scan ID: 'a09d479c-cdae-4829-b718-0fe33e28446f'\n",
      "New stream: 'primary'\n"
     ]
    },
    {
     "data": {
      "application/vnd.jupyter.widget-view+json": {
       "model_id": "9d4aff8bce51443dba73cec7e4b2abbd",
       "version_major": 2,
       "version_minor": 0
      },
      "text/plain": [
       "FigureCanvasNbAgg()"
      ]
     },
     "metadata": {},
     "output_type": "display_data"
    },
    {
     "name": "stdout",
     "output_type": "stream",
     "text": [
      "+-----------+------------+--------------------+------------+\n",
      "|   seq_num |       time | HiTp_Stage_stage_z |      ptDet |\n",
      "+-----------+------------+--------------------+------------+\n",
      "|         1 | 13:58:17.6 |             -5.000 |      1.000 |\n",
      "|         2 | 13:58:17.7 |             -4.744 |      1.000 |\n",
      "|         3 | 13:58:17.7 |             -4.487 |      1.000 |\n",
      "|         4 | 13:58:17.7 |             -4.231 |      1.000 |\n",
      "|         5 | 13:58:17.7 |             -3.974 |      1.000 |\n",
      "|         6 | 13:58:17.7 |             -3.718 |      1.000 |\n",
      "|         7 | 13:58:17.7 |             -3.462 |      1.000 |\n",
      "|         8 | 13:58:17.7 |             -3.205 |      1.000 |\n",
      "|         9 | 13:58:17.8 |             -2.949 |      1.000 |\n",
      "|        10 | 13:58:17.8 |             -2.692 |      1.000 |\n",
      "|        11 | 13:58:17.8 |             -2.436 |      1.000 |\n",
      "|        12 | 13:58:17.8 |             -2.179 |      1.000 |\n",
      "|        13 | 13:58:17.8 |             -1.923 |      1.000 |\n",
      "|        14 | 13:58:17.8 |             -1.667 |      1.000 |\n",
      "|        15 | 13:58:17.9 |             -1.410 |      1.000 |\n",
      "|        16 | 13:58:17.9 |             -1.154 |      1.000 |\n",
      "|        17 | 13:58:17.9 |             -0.897 |      1.000 |\n",
      "|        18 | 13:58:17.9 |             -0.641 |      1.000 |\n",
      "|        19 | 13:58:17.9 |             -0.385 |      0.999 |\n",
      "|        20 | 13:58:17.9 |             -0.128 |      0.999 |\n",
      "|        21 | 13:58:17.9 |              0.128 |      0.997 |\n",
      "|        22 | 13:58:17.9 |              0.385 |      0.994 |\n",
      "|        23 | 13:58:17.9 |              0.641 |      0.988 |\n",
      "|        24 | 13:58:17.9 |              0.897 |      0.974 |\n",
      "|        25 | 13:58:17.9 |              1.154 |      0.944 |\n",
      "|        26 | 13:58:17.9 |              1.410 |      0.881 |\n",
      "|        27 | 13:58:17.9 |              1.667 |      0.750 |\n",
      "|        28 | 13:58:18.0 |              1.923 |      0.491 |\n",
      "|        29 | 13:58:18.0 |              2.179 |      0.017 |\n",
      "|        30 | 13:58:18.0 |              2.436 |     -0.728 |\n",
      "|        31 | 13:58:18.0 |              2.692 |     -1.663 |\n",
      "|        32 | 13:58:18.0 |              2.949 |     -2.555 |\n",
      "|        33 | 13:58:18.1 |              3.205 |     -3.207 |\n",
      "|        34 | 13:58:18.1 |              3.462 |     -3.599 |\n",
      "|        35 | 13:58:18.1 |              3.718 |     -3.806 |\n",
      "|        36 | 13:58:18.1 |              3.974 |     -3.908 |\n",
      "|        37 | 13:58:18.1 |              4.231 |     -3.957 |\n",
      "|        38 | 13:58:18.1 |              4.487 |     -3.980 |\n",
      "|        39 | 13:58:18.1 |              4.744 |     -3.991 |\n",
      "|        40 | 13:58:18.1 |              5.000 |     -3.996 |\n",
      "+-----------+------------+--------------------+------------+\n",
      "generator scan ['a09d479c'] (scan num: 5)\n",
      "\n",
      "\n",
      "\n"
     ]
    },
    {
     "data": {
      "text/plain": [
       "('a09d479c-cdae-4829-b718-0fe33e28446f',)"
      ]
     },
     "execution_count": 24,
     "metadata": {},
     "output_type": "execute_result"
    }
   ],
   "source": [
    "# Scan the z-stage motor while watching the point detector\n",
    "RE( bp.scan([ptDet], stage.stage_z, -5, 5, num=40) )"
   ]
  },
  {
   "cell_type": "code",
   "execution_count": 4,
   "metadata": {},
   "outputs": [
    {
     "data": {
      "text/plain": [
       "{\n",
       "'com':\n",
       "    {'ptDet': 5.0}\n",
       ",\n",
       "'cen':\n",
       "    {'ptDet': 2.9932061366715894}\n",
       ",\n",
       "'max':\n",
       "    {'ptDet': (-5.0,\n",
       "               0.9999999998076405)}\n",
       ",\n",
       "'min':\n",
       "    {'ptDet': (5.0,\n",
       "               -3.987867874821374)}\n",
       ",\n",
       "'fwhm':\n",
       "    {'ptDet': None}\n",
       ",\n",
       "'nlls':\n",
       "    {'ptDet': None}\n",
       ",\n",
       "}"
      ]
     },
     "execution_count": 4,
     "metadata": {},
     "output_type": "execute_result"
    }
   ],
   "source": [
    "# peak scan information is automatically saved under the variable \"peaks\" after every run\n",
    "peaks"
   ]
  },
  {
   "cell_type": "code",
   "execution_count": null,
   "metadata": {},
   "outputs": [],
   "source": []
  }
 ],
 "metadata": {
  "kernelspec": {
   "display_name": "Python 3.8.3 64-bit ('collect2': conda)",
   "language": "python",
   "name": "python38364bitcollect2condaae13d84e20224aae8c47c8cf57015747"
  },
  "language_info": {
   "codemirror_mode": {
    "name": "ipython",
    "version": 3
   },
   "file_extension": ".py",
   "mimetype": "text/x-python",
   "name": "python",
   "nbconvert_exporter": "python",
   "pygments_lexer": "ipython3",
   "version": "3.8.3"
  }
 },
 "nbformat": 4,
 "nbformat_minor": 2
}
